{
  "nbformat": 4,
  "nbformat_minor": 0,
  "metadata": {
    "colab": {
      "provenance": []
    },
    "kernelspec": {
      "name": "python3",
      "display_name": "Python 3"
    },
    "language_info": {
      "name": "python"
    }
  },
  "cells": [
    {
      "cell_type": "code",
      "execution_count": 2,
      "metadata": {
        "id": "p7r5dWaNPE6W"
      },
      "outputs": [],
      "source": [
        "import pandas as pd\n",
        "from sklearn.model_selection import train_test_split\n",
        "from sklearn.linear_model import LinearRegression, LogisticRegression\n",
        "from sklearn.preprocessing import LabelEncoder\n",
        "from sklearn.metrics import mean_squared_error, accuracy_score"
      ]
    },
    {
      "cell_type": "code",
      "source": [
        "df = pd.read_csv('Titanic-Dataset.csv')"
      ],
      "metadata": {
        "id": "ITcbNyRSQ9kK"
      },
      "execution_count": 3,
      "outputs": []
    },
    {
      "cell_type": "code",
      "source": [
        "print(df.head())"
      ],
      "metadata": {
        "colab": {
          "base_uri": "https://localhost:8080/"
        },
        "id": "VmmnkOyJRBzL",
        "outputId": "df6ac491-0059-4753-b01a-041a17d8913b"
      },
      "execution_count": 4,
      "outputs": [
        {
          "output_type": "stream",
          "name": "stdout",
          "text": [
            "   PassengerId  Survived  Pclass  \\\n",
            "0            1         0       3   \n",
            "1            2         1       1   \n",
            "2            3         1       3   \n",
            "3            4         1       1   \n",
            "4            5         0       3   \n",
            "\n",
            "                                                Name     Sex   Age  SibSp  \\\n",
            "0                            Braund, Mr. Owen Harris    male  22.0      1   \n",
            "1  Cumings, Mrs. John Bradley (Florence Briggs Th...  female  38.0      1   \n",
            "2                             Heikkinen, Miss. Laina  female  26.0      0   \n",
            "3       Futrelle, Mrs. Jacques Heath (Lily May Peel)  female  35.0      1   \n",
            "4                           Allen, Mr. William Henry    male  35.0      0   \n",
            "\n",
            "   Parch            Ticket     Fare Cabin Embarked  \n",
            "0      0         A/5 21171   7.2500   NaN        S  \n",
            "1      0          PC 17599  71.2833   C85        C  \n",
            "2      0  STON/O2. 3101282   7.9250   NaN        S  \n",
            "3      0            113803  53.1000  C123        S  \n",
            "4      0            373450   8.0500   NaN        S  \n"
          ]
        }
      ]
    },
    {
      "cell_type": "markdown",
      "source": [
        "#  NOMOR 1: EKSPLORASI AWAL"
      ],
      "metadata": {
        "id": "a9SYumiiSMXL"
      }
    },
    {
      "cell_type": "code",
      "source": [
        "df.info()"
      ],
      "metadata": {
        "colab": {
          "base_uri": "https://localhost:8080/"
        },
        "id": "kYD3AnXWRPgn",
        "outputId": "4796baff-1219-44d4-b5c6-8ffe9c83aa28"
      },
      "execution_count": 5,
      "outputs": [
        {
          "output_type": "stream",
          "name": "stdout",
          "text": [
            "<class 'pandas.core.frame.DataFrame'>\n",
            "RangeIndex: 891 entries, 0 to 890\n",
            "Data columns (total 12 columns):\n",
            " #   Column       Non-Null Count  Dtype  \n",
            "---  ------       --------------  -----  \n",
            " 0   PassengerId  891 non-null    int64  \n",
            " 1   Survived     891 non-null    int64  \n",
            " 2   Pclass       891 non-null    int64  \n",
            " 3   Name         891 non-null    object \n",
            " 4   Sex          891 non-null    object \n",
            " 5   Age          714 non-null    float64\n",
            " 6   SibSp        891 non-null    int64  \n",
            " 7   Parch        891 non-null    int64  \n",
            " 8   Ticket       891 non-null    object \n",
            " 9   Fare         891 non-null    float64\n",
            " 10  Cabin        204 non-null    object \n",
            " 11  Embarked     889 non-null    object \n",
            "dtypes: float64(2), int64(5), object(5)\n",
            "memory usage: 83.7+ KB\n"
          ]
        }
      ]
    },
    {
      "cell_type": "code",
      "source": [
        "# A\n",
        "\n",
        "Jumlah_penumpang = df.shape[0]\n",
        "print(f\"Jumlah penumpang : {Jumlah_penumpang}\")"
      ],
      "metadata": {
        "colab": {
          "base_uri": "https://localhost:8080/"
        },
        "id": "OHUunWPIRyuC",
        "outputId": "19e1911b-5cd4-4df6-b5d7-a68f8378a97b"
      },
      "execution_count": 6,
      "outputs": [
        {
          "output_type": "stream",
          "name": "stdout",
          "text": [
            "Jumlah penumpang : 891\n"
          ]
        }
      ]
    },
    {
      "cell_type": "markdown",
      "source": [
        "a) Jumlah penumpang = 891"
      ],
      "metadata": {
        "id": "cqsmFc8oSRXf"
      }
    },
    {
      "cell_type": "code",
      "source": [
        "# B\n",
        "\n",
        "#melihat jumlah penumpang yang selamat [1]\n",
        "df['Survived'].sum()\n",
        "\n",
        "#melihat jumlah penumpang yant idak selamat [0]\n",
        "df['Survived'].value_counts()"
      ],
      "metadata": {
        "colab": {
          "base_uri": "https://localhost:8080/",
          "height": 178
        },
        "id": "Qb-FM7wTSWIW",
        "outputId": "b0f28dc7-7584-44d4-d676-c790ac5637f7"
      },
      "execution_count": 7,
      "outputs": [
        {
          "output_type": "execute_result",
          "data": {
            "text/plain": [
              "Survived\n",
              "0    549\n",
              "1    342\n",
              "Name: count, dtype: int64"
            ],
            "text/html": [
              "<div>\n",
              "<style scoped>\n",
              "    .dataframe tbody tr th:only-of-type {\n",
              "        vertical-align: middle;\n",
              "    }\n",
              "\n",
              "    .dataframe tbody tr th {\n",
              "        vertical-align: top;\n",
              "    }\n",
              "\n",
              "    .dataframe thead th {\n",
              "        text-align: right;\n",
              "    }\n",
              "</style>\n",
              "<table border=\"1\" class=\"dataframe\">\n",
              "  <thead>\n",
              "    <tr style=\"text-align: right;\">\n",
              "      <th></th>\n",
              "      <th>count</th>\n",
              "    </tr>\n",
              "    <tr>\n",
              "      <th>Survived</th>\n",
              "      <th></th>\n",
              "    </tr>\n",
              "  </thead>\n",
              "  <tbody>\n",
              "    <tr>\n",
              "      <th>0</th>\n",
              "      <td>549</td>\n",
              "    </tr>\n",
              "    <tr>\n",
              "      <th>1</th>\n",
              "      <td>342</td>\n",
              "    </tr>\n",
              "  </tbody>\n",
              "</table>\n",
              "</div><br><label><b>dtype:</b> int64</label>"
            ]
          },
          "metadata": {},
          "execution_count": 7
        }
      ]
    },
    {
      "cell_type": "markdown",
      "source": [
        "b)\n",
        "\n",
        "jumlah penonton selamat (1) = 342\n",
        "\n",
        "jumlah penonton tidak selamat (0) = 549\n",
        "\n",
        "\n",
        "\n"
      ],
      "metadata": {
        "id": "2TW5ueBiSvHY"
      }
    },
    {
      "cell_type": "code",
      "source": [
        "# C\n",
        "\n",
        "print(f\"c)\")\n",
        "# Rata-rata umur penumpang\n",
        "rata_rata_umur = df['Age'].mean()\n",
        "print(f\"   Rata-rata umur penumpang: {rata_rata_umur:.2f} tahun\")\n",
        "\n",
        "# Penumpang termuda\n",
        "umur_termuda = df['Age'].min()\n",
        "print(f\"   Umur penumpang termuda: {umur_termuda} tahun\")\n",
        "\n",
        "# Penumpang tertua\n",
        "umur_tertua = df['Age'].max()\n",
        "print(f\"   Umur penumpang tertua: {umur_tertua} tahun\")"
      ],
      "metadata": {
        "colab": {
          "base_uri": "https://localhost:8080/"
        },
        "id": "p0VfIYneUM28",
        "outputId": "3e6d124f-47c4-48bc-8cab-13f0b645d58e"
      },
      "execution_count": 8,
      "outputs": [
        {
          "output_type": "stream",
          "name": "stdout",
          "text": [
            "c)\n",
            "   Rata-rata umur penumpang: 29.70 tahun\n",
            "   Umur penumpang termuda: 0.42 tahun\n",
            "   Umur penumpang tertua: 80.0 tahun\n"
          ]
        }
      ]
    },
    {
      "cell_type": "code",
      "source": [
        "# D\n",
        "\n",
        "\n",
        "print(f\"D)\")\n",
        "\n",
        "#menghitung jumlah penumpang laki-laki\n",
        "laki = df['Sex'].value_counts()['male']\n",
        "print(f\"   Jumlah penumpang laki-laki : {laki}\")\n",
        "\n",
        "#menghitung jumlah penumpang perempuan\n",
        "perempuan = df['Sex'].value_counts()['female']\n",
        "print(f\"   Jumlah penumpang perempuan : {perempuan}\")\n",
        "\n",
        "print(f\" \")\n",
        "print(f\" \")\n",
        "print(f\" \")\n",
        "\n",
        "#Visualisasi\n",
        "print(f\"    Bar Chart\")\n",
        "\n",
        "import matplotlib.pyplot as plt # Importing the matplotlib library\n",
        "\n",
        "plt.figure(figsize=(6,4))\n",
        "df['Sex'].value_counts().plot(kind='bar', color=['lightblue', 'lightpink'])\n",
        "plt.title('Jumlah Penumpang berdasarkan Gender')\n",
        "plt.xlabel('Gender (0 = laki-laki, 1 = perempuan)')\n",
        "plt.ylabel('Jumlah Penumpang')\n",
        "plt.xticks([0,1], ['Laki-laki', 'Perempuan'], rotation=0)\n",
        "plt.grid(axis='y', linestyle='--', alpha=0.7)\n",
        "plt.show()\n",
        "\n",
        "\n",
        "print(f\" \")\n",
        "print(f\" \")\n",
        "print(f\" \")\n",
        "\n",
        "#Mana yang paling besar\n",
        "if laki > perempuan:\n",
        "    print(\"Jadi Penumpang laki-laki lebih banyak.\")\n",
        "else:\n",
        "    print(\"Jadi Penumpang perempuan lebih banyak.\")\n"
      ],
      "metadata": {
        "colab": {
          "base_uri": "https://localhost:8080/",
          "height": 601
        },
        "id": "aWF0T46VX7EO",
        "outputId": "bc0bc999-4e93-4e35-a365-01ed90e9cd04"
      },
      "execution_count": 9,
      "outputs": [
        {
          "output_type": "stream",
          "name": "stdout",
          "text": [
            "D)\n",
            "   Jumlah penumpang laki-laki : 577\n",
            "   Jumlah penumpang perempuan : 314\n",
            " \n",
            " \n",
            " \n",
            "    Bar Chart\n"
          ]
        },
        {
          "output_type": "display_data",
          "data": {
            "text/plain": [
              "<Figure size 600x400 with 1 Axes>"
            ],
            "image/png": "[encoded data removed]"
          },
          "metadata": {}
        },
        {
          "output_type": "stream",
          "name": "stdout",
          "text": [
            " \n",
            " \n",
            " \n",
            "Jadi Penumpang laki-laki lebih banyak.\n"
          ]
        }
      ]
    },
    {
      "cell_type": "code",
      "source": [
        "# E\n",
        "\n",
        "\n",
        "print(f\"E)\")\n",
        "\n",
        "#menghitung jumlah penumpang di kelas 1\n",
        "kelas_satu = df['Pclass'].value_counts()[1]\n",
        "print(f\"   Jumlah penumpang di kelas 1 : {kelas_satu}\")\n",
        "\n",
        "#menghitung jumlah penumpang di kelas 2\n",
        "kelas_dua = df['Pclass'].value_counts()[2]\n",
        "print(f\"   Jumlah penumpang di kelas 2 : {kelas_dua}\")\n",
        "\n",
        "#menghitung jumlah penumpang di kelas 3\n",
        "kelas_tiga = df['Pclass'].value_counts()[3]\n",
        "print(f\"   Jumlah penumpang di kelas 3 : {kelas_tiga}\")\n",
        "\n",
        "print(f\" \")\n",
        "print(f\" \")\n",
        "print(f\" \")\n",
        "\n",
        "#MENGHITUNG PRESENTASI\n",
        "\n",
        "#presentasi kelas 1\n",
        "presentasi_kelas_satu = (kelas_satu / Jumlah_penumpang) * 100\n",
        "print(f\"   Presentasi penumpang kelas 1 : {presentasi_kelas_satu:.2f}%\")\n",
        "\n",
        "#presentasi kelas 2\n",
        "presentasi_kelas_dua = (kelas_dua / Jumlah_penumpang) * 100\n",
        "print(f\"   Presentasi penumpang kelas 2 : {presentasi_kelas_dua:.2f}%\")\n",
        "\n",
        "#presentasi kelas 3\n",
        "presentasi_kelas_tiga = (kelas_tiga / Jumlah_penumpang) * 100\n",
        "print(f\"   Presentasi penumpang kelas 3 : {presentasi_kelas_tiga:.2f}%\")\n",
        "\n",
        "print(f\" \")\n",
        "print(f\" \")\n",
        "print(f\" \")\n",
        "\n",
        "#Pie Chart\n",
        "\n",
        "labels = ['Kelas 1', 'Kelas 2', 'Kelas 3']\n",
        "sizes = [presentasi_kelas_satu, presentasi_kelas_dua, presentasi_kelas_tiga]\n",
        "colors = ['lightblue', 'lightgreen', 'lightcoral']\n",
        "explode = (0.1, 0, 0)\n",
        "plt.pie(sizes, explode=explode, labels=labels, colors=colors,\n",
        "        autopct='%1.1f%%', shadow=True, startangle=140)\n",
        "plt.axis('equal')\n",
        "plt.title('VISUALISAI PRESENTASE')\n",
        "plt.show()"
      ],
      "metadata": {
        "colab": {
          "base_uri": "https://localhost:8080/",
          "height": 661
        },
        "id": "YZQ8Dr5oaAf2",
        "outputId": "92f2cb2f-c0fc-4cea-e73c-55bf7f0b9df0"
      },
      "execution_count": 10,
      "outputs": [
        {
          "output_type": "stream",
          "name": "stdout",
          "text": [
            "E)\n",
            "   Jumlah penumpang di kelas 1 : 216\n",
            "   Jumlah penumpang di kelas 2 : 184\n",
            "   Jumlah penumpang di kelas 3 : 491\n",
            " \n",
            " \n",
            " \n",
            "   Presentasi penumpang kelas 1 : 24.24%\n",
            "   Presentasi penumpang kelas 2 : 20.65%\n",
            "   Presentasi penumpang kelas 3 : 55.11%\n",
            " \n",
            " \n",
            " \n"
          ]
        },
        {
          "output_type": "display_data",
          "data": {
            "text/plain": [
              "<Figure size 640x480 with 1 Axes>"
            ],
            "image/png": "[encoded data removed]"
          },
          "metadata": {}
        }
      ]
    },
    {
      "cell_type": "markdown",
      "source": [
        "# NOMOR 2 : Pre-processing"
      ],
      "metadata": {
        "id": "JfQ6OK-EhpRk"
      }
    },
    {
      "cell_type": "code",
      "source": [
        "df.info()"
      ],
      "metadata": {
        "colab": {
          "base_uri": "https://localhost:8080/"
        },
        "id": "FPG18iRai5Nr",
        "outputId": "27c21bcb-45df-4ece-eb38-c64822c9cf24"
      },
      "execution_count": 11,
      "outputs": [
        {
          "output_type": "stream",
          "name": "stdout",
          "text": [
            "<class 'pandas.core.frame.DataFrame'>\n",
            "RangeIndex: 891 entries, 0 to 890\n",
            "Data columns (total 12 columns):\n",
            " #   Column       Non-Null Count  Dtype  \n",
            "---  ------       --------------  -----  \n",
            " 0   PassengerId  891 non-null    int64  \n",
            " 1   Survived     891 non-null    int64  \n",
            " 2   Pclass       891 non-null    int64  \n",
            " 3   Name         891 non-null    object \n",
            " 4   Sex          891 non-null    object \n",
            " 5   Age          714 non-null    float64\n",
            " 6   SibSp        891 non-null    int64  \n",
            " 7   Parch        891 non-null    int64  \n",
            " 8   Ticket       891 non-null    object \n",
            " 9   Fare         891 non-null    float64\n",
            " 10  Cabin        204 non-null    object \n",
            " 11  Embarked     889 non-null    object \n",
            "dtypes: float64(2), int64(5), object(5)\n",
            "memory usage: 83.7+ KB\n"
          ]
        }
      ]
    },
    {
      "cell_type": "markdown",
      "source": [
        "a) Dari output diatas diketahui ada kolom yang missing value yaitu pada kolom Age, yang dimana harusnya terdapat 891 tapi dikolom Age hanya ada 714."
      ],
      "metadata": {
        "id": "DMlwkvl0kdvY"
      }
    },
    {
      "cell_type": "code",
      "source": [
        "df['Age'].unique()"
      ],
      "metadata": {
        "colab": {
          "base_uri": "https://localhost:8080/"
        },
        "id": "s51Ovk55lsaI",
        "outputId": "d96f5a16-c65d-43e6-f58f-58c7f0a57d2a"
      },
      "execution_count": 12,
      "outputs": [
        {
          "output_type": "execute_result",
          "data": {
            "text/plain": [
              "array([22.  , 38.  , 26.  , 35.  ,   nan, 54.  ,  2.  , 27.  , 14.  ,\n",
              "        4.  , 58.  , 20.  , 39.  , 55.  , 31.  , 34.  , 15.  , 28.  ,\n",
              "        8.  , 19.  , 40.  , 66.  , 42.  , 21.  , 18.  ,  3.  ,  7.  ,\n",
              "       49.  , 29.  , 65.  , 28.5 ,  5.  , 11.  , 45.  , 17.  , 32.  ,\n",
              "       16.  , 25.  ,  0.83, 30.  , 33.  , 23.  , 24.  , 46.  , 59.  ,\n",
              "       71.  , 37.  , 47.  , 14.5 , 70.5 , 32.5 , 12.  ,  9.  , 36.5 ,\n",
              "       51.  , 55.5 , 40.5 , 44.  ,  1.  , 61.  , 56.  , 50.  , 36.  ,\n",
              "       45.5 , 20.5 , 62.  , 41.  , 52.  , 63.  , 23.5 ,  0.92, 43.  ,\n",
              "       60.  , 10.  , 64.  , 13.  , 48.  ,  0.75, 53.  , 57.  , 80.  ,\n",
              "       70.  , 24.5 ,  6.  ,  0.67, 30.5 ,  0.42, 34.5 , 74.  ])"
            ]
          },
          "metadata": {},
          "execution_count": 12
        }
      ]
    },
    {
      "cell_type": "code",
      "source": [
        "df['Age']=df['Age'].fillna(df['Age'].median())"
      ],
      "metadata": {
        "id": "KQU_Ljqrna0D"
      },
      "execution_count": 13,
      "outputs": []
    },
    {
      "cell_type": "markdown",
      "source": [
        "B) Karena terdapat missing value pada kolom Age maka kita mengganti data yang kosong dengan value yang baru yang didapat dengan metode median."
      ],
      "metadata": {
        "id": "Axf60kK1n_kJ"
      }
    },
    {
      "cell_type": "code",
      "source": [
        "#Visualisai Outlier\n",
        "\n",
        "!pip install seaborn\n",
        "import seaborn as sns # Import the seaborn library and assign it to the alias 'sns'\n",
        "import matplotlib.pyplot as plt\n",
        "import pandas as pd\n",
        "\n",
        "\n",
        "plt.figure(figsize=(12,5))\n",
        "\n",
        "plt.subplot(1,2,1)\n",
        "sns.boxplot(data=df, y='Age') # Now you can use 'sns' to refer to seaborn functions\n",
        "plt.title('Outlier pada Umur (Age)')\n",
        "\n",
        "plt.subplot(1,2,2)\n",
        "sns.boxplot(data=df, y='Fare')\n",
        "plt.title('Outlier pada Biaya Tiket (Fare)')\n",
        "\n",
        "plt.tight_layout()\n",
        "plt.show()"
      ],
      "metadata": {
        "colab": {
          "base_uri": "https://localhost:8080/",
          "height": 573
        },
        "id": "bTgf7Mvzpc-r",
        "outputId": "1709cd5d-f1af-4d3b-e65c-1df20be31f44"
      },
      "execution_count": 16,
      "outputs": [
        {
          "output_type": "stream",
          "name": "stdout",
          "text": [
            "Requirement already satisfied: seaborn in /usr/local/lib/python3.11/dist-packages (0.13.2)\n",
            "Requirement already satisfied: numpy!=1.24.0,>=1.20 in /usr/local/lib/python3.11/dist-packages (from seaborn) (2.0.2)\n",
            "Requirement already satisfied: pandas>=1.2 in /usr/local/lib/python3.11/dist-packages (from seaborn) (2.2.2)\n",
            "Requirement already satisfied: matplotlib!=3.6.1,>=3.4 in /usr/local/lib/python3.11/dist-packages (from seaborn) (3.10.0)\n",
            "Requirement already satisfied: contourpy>=1.0.1 in /usr/local/lib/python3.11/dist-packages (from matplotlib!=3.6.1,>=3.4->seaborn) (1.3.2)\n",
            "Requirement already satisfied: cycler>=0.10 in /usr/local/lib/python3.11/dist-packages (from matplotlib!=3.6.1,>=3.4->seaborn) (0.12.1)\n",
            "Requirement already satisfied: fonttools>=4.22.0 in /usr/local/lib/python3.11/dist-packages (from matplotlib!=3.6.1,>=3.4->seaborn) (4.57.0)\n",
            "Requirement already satisfied: kiwisolver>=1.3.1 in /usr/local/lib/python3.11/dist-packages (from matplotlib!=3.6.1,>=3.4->seaborn) (1.4.8)\n",
            "Requirement already satisfied: packaging>=20.0 in /usr/local/lib/python3.11/dist-packages (from matplotlib!=3.6.1,>=3.4->seaborn) (24.2)\n",
            "Requirement already satisfied: pillow>=8 in /usr/local/lib/python3.11/dist-packages (from matplotlib!=3.6.1,>=3.4->seaborn) (11.1.0)\n",
            "Requirement already satisfied: pyparsing>=2.3.1 in /usr/local/lib/python3.11/dist-packages (from matplotlib!=3.6.1,>=3.4->seaborn) (3.2.3)\n",
            "Requirement already satisfied: python-dateutil>=2.7 in /usr/local/lib/python3.11/dist-packages (from matplotlib!=3.6.1,>=3.4->seaborn) (2.8.2)\n",
            "Requirement already satisfied: pytz>=2020.1 in /usr/local/lib/python3.11/dist-packages (from pandas>=1.2->seaborn) (2025.2)\n",
            "Requirement already satisfied: tzdata>=2022.7 in /usr/local/lib/python3.11/dist-packages (from pandas>=1.2->seaborn) (2025.2)\n",
            "Requirement already satisfied: six>=1.5 in /usr/local/lib/python3.11/dist-packages (from python-dateutil>=2.7->matplotlib!=3.6.1,>=3.4->seaborn) (1.17.0)\n"
          ]
        },
        {
          "output_type": "display_data",
          "data": {
            "text/plain": [
              "<Figure size 1200x500 with 2 Axes>"
            ],
            "image/png": "[encoded data removed]"
          },
          "metadata": {}
        }
      ]
    },
    {
      "cell_type": "code",
      "source": [
        "#Melihat jumlah outlier\n",
        "\n",
        "def detect_outliers_iqr(data, column):\n",
        "    Q1 = data[column].quantile(0.25)  # Kuartil 1\n",
        "    Q3 = data[column].quantile(0.75)  # Kuartil 3\n",
        "    IQR = Q3 - Q1  # Rentang interkuartil\n",
        "    lower_bound = Q1 - 1.5 * IQR\n",
        "    upper_bound = Q3 + 1.5 * IQR\n",
        "    return data[(data[column] < lower_bound) | (data[column] > upper_bound)]\n",
        "\n",
        "# Define num_cols to include numerical columns from the DataFrame\n",
        "num_cols = ['Age', 'Fare']  # Assuming these are your numerical columns\n",
        "\n",
        "# Cek jumlah outlier untuk setiap kolom numerik\n",
        "for col in num_cols:\n",
        "    outliers = detect_outliers_iqr(df, col) # Pass 'df' as the data argument\n",
        "    print(f\"{col}: {len(outliers)} outliers\")"
      ],
      "metadata": {
        "colab": {
          "base_uri": "https://localhost:8080/"
        },
        "id": "bkbB8eWtqjMz",
        "outputId": "391b4963-f005-4647-b53b-c9ac1e23767c"
      },
      "execution_count": 18,
      "outputs": [
        {
          "output_type": "stream",
          "name": "stdout",
          "text": [
            "Age: 66 outliers\n",
            "Fare: 116 outliers\n"
          ]
        }
      ]
    },
    {
      "cell_type": "markdown",
      "source": [
        "C) Outlier adalah data yang sangat berbeda (jauh) dari sebagian besar data lainnya.\n",
        "\n",
        "Pada data ini terdapat 2 kolom yang memiliki outlier, yaitu:\n",
        "\n",
        "\n",
        "1.   Age  : 66 outlier\n",
        "2.   Fare : 116 outlier\n",
        "\n"
      ],
      "metadata": {
        "id": "3g6-0dwVrB63"
      }
    },
    {
      "cell_type": "code",
      "source": [
        "# Metode Winsoirizing untuk mengatasi outlier\n",
        "\n",
        "from scipy.stats.mstats import winsorize\n",
        "\n",
        "# Winsorize kolom 'Age'\n",
        "df['Age_winsorized'] = winsorize(df['Age'], limits=[0.05, 0.05])\n",
        "\n",
        "# Winsorize kolom 'Fare'\n",
        "df['Fare_winsorized'] = winsorize(df['Fare'], limits=[0.05, 0.05])"
      ],
      "metadata": {
        "id": "2TKCaYoysFun"
      },
      "execution_count": 19,
      "outputs": []
    },
    {
      "cell_type": "markdown",
      "source": [
        "D) Ya outlier perlu diattasi karena adanya outlier dapat mempengaruhi hasil model. Outlier dapat diatasi dengan membatasi nilai outlier dengan menggantinya dengan nilai persentil tertentu (metode winsorizing)."
      ],
      "metadata": {
        "id": "Thc26vfXsbD4"
      }
    },
    {
      "cell_type": "code",
      "source": [
        "# E\n",
        "\n",
        "import pandas as pd\n",
        "from sklearn.preprocessing import StandardScaler, MinMaxScaler, RobustScaler\n",
        "\n",
        "\n",
        "# Tangani missing value dulu\n",
        "df['Age'].fillna(df['Age'].median(), inplace=True)\n",
        "df['Fare'].fillna(df['Fare'].median(), inplace=True)\n",
        "\n",
        "# PILIH KOLOM NUMERIK YANG MAU DISTANDARISASI\n",
        "fitur = df[['Age', 'Fare']]\n",
        "\n",
        "# 1. StandardScaler\n",
        "scaler_standard = StandardScaler()\n",
        "fitur_standard = scaler_standard.fit_transform(fitur)\n",
        "\n",
        "# 2. MinMaxScaler\n",
        "scaler_minmax = MinMaxScaler()\n",
        "fitur_minmax = scaler_minmax.fit_transform(fitur)\n",
        "\n",
        "# 3. RobustScaler\n",
        "scaler_robust = RobustScaler()\n",
        "fitur_robust = scaler_robust.fit_transform(fitur)\n",
        "\n",
        "# Masukkan kembali ke DataFrame untuk lihat hasil\n",
        "df_standard = pd.DataFrame(fitur_standard, columns=['Age_scaled', 'Fare_scaled'])\n",
        "df_minmax = pd.DataFrame(fitur_minmax, columns=['Age_scaled', 'Fare_scaled'])\n",
        "df_robust = pd.DataFrame(fitur_robust, columns=['Age_scaled', 'Fare_scaled'])\n",
        "\n",
        "print(\"Contoh hasil StandardScaler:\")\n",
        "print(df_standard.head())\n",
        "\n",
        "print(\"\\nContoh hasil MinMaxScaler:\")\n",
        "print(df_minmax.head())"
      ],
      "metadata": {
        "colab": {
          "base_uri": "https://localhost:8080/"
        },
        "id": "PrgQX0ATuuhF",
        "outputId": "8bd3a6eb-e745-4eb0-d824-199882e62088"
      },
      "execution_count": 21,
      "outputs": [
        {
          "output_type": "stream",
          "name": "stdout",
          "text": [
            "Contoh hasil StandardScaler:\n",
            "   Age_scaled  Fare_scaled\n",
            "0   -0.565736    -0.502445\n",
            "1    0.663861     0.786845\n",
            "2   -0.258337    -0.488854\n",
            "3    0.433312     0.420730\n",
            "4    0.433312    -0.486337\n",
            "\n",
            "Contoh hasil MinMaxScaler:\n",
            "   Age_scaled  Fare_scaled\n",
            "0    0.271174     0.014151\n",
            "1    0.472229     0.139136\n",
            "2    0.321438     0.015469\n",
            "3    0.434531     0.103644\n",
            "4    0.434531     0.015713\n"
          ]
        },
        {
          "output_type": "stream",
          "name": "stderr",
          "text": [
            "<ipython-input-21-7327c16f1f47>:6: FutureWarning: A value is trying to be set on a copy of a DataFrame or Series through chained assignment using an inplace method.\n",
            "The behavior will change in pandas 3.0. This inplace method will never work because the intermediate object on which we are setting values always behaves as a copy.\n",
            "\n",
            "For example, when doing 'df[col].method(value, inplace=True)', try using 'df.method({col: value}, inplace=True)' or df[col] = df[col].method(value) instead, to perform the operation inplace on the original object.\n",
            "\n",
            "\n",
            "  df['Age'].fillna(df['Age'].median(), inplace=True)\n",
            "<ipython-input-21-7327c16f1f47>:7: FutureWarning: A value is trying to be set on a copy of a DataFrame or Series through chained assignment using an inplace method.\n",
            "The behavior will change in pandas 3.0. This inplace method will never work because the intermediate object on which we are setting values always behaves as a copy.\n",
            "\n",
            "For example, when doing 'df[col].method(value, inplace=True)', try using 'df.method({col: value}, inplace=True)' or df[col] = df[col].method(value) instead, to perform the operation inplace on the original object.\n",
            "\n",
            "\n",
            "  df['Fare'].fillna(df['Fare'].median(), inplace=True)\n"
          ]
        }
      ]
    },
    {
      "cell_type": "markdown",
      "source": [
        "# NOMOR 3: Modeling"
      ],
      "metadata": {
        "id": "jStEDP4BvTUb"
      }
    },
    {
      "cell_type": "markdown",
      "source": [
        "A) Pembagian data menjadi data training dan data testing adalah langkah penting dalam proses machine learning atau data mining untuk membangun dan mengevaluasi model prediksi.\n",
        "\n",
        "Proses pembagian data\n",
        "\n",
        "**Data Training**\n",
        "\n",
        "*   Digunakan untuk melatih model.\n",
        "*   Model akan belajar pola dari data ini.\n",
        "*  Biasanya mencakup 70–80% dari seluruh dataset.\n",
        "\n",
        "\n",
        "**Data Testing**\n",
        "\n",
        "* Digunakan untuk menguji performa model.\n",
        "* Model tidak pernah melihat data ini saat pelatihan.\n",
        "* Biasanya sekitar 20–30% dari total data.\n",
        "\n",
        "\n",
        "\n",
        "\n",
        "\n"
      ],
      "metadata": {
        "id": "H3JCR24EyDTe"
      }
    },
    {
      "cell_type": "code",
      "source": [
        "# B\n",
        "\n",
        "from sklearn.model_selection import train_test_split\n",
        "\n",
        "# Proses pembagian\n",
        "X = df[['Pclass', 'Sex', 'Age', 'Fare']]  # fitur\n",
        "X['Sex'] = X['Sex'].map({'male': 1, 'female': 0})  # encoding\n",
        "X['Age'].fillna(X['Age'].median(), inplace=True)\n",
        "X['Fare'].fillna(X['Fare'].median(), inplace=True)\n",
        "y = df['Survived']  # label\n",
        "\n",
        "# 80% training, 20% testing\n",
        "X_train, X_test, y_train, y_test = train_test_split(X, y, test_size=0.2, random_state=42)"
      ],
      "metadata": {
        "colab": {
          "base_uri": "https://localhost:8080/"
        },
        "id": "W33A3e_jzkYK",
        "outputId": "04443152-a475-437d-dddc-910a0dc57292"
      },
      "execution_count": 22,
      "outputs": [
        {
          "output_type": "stream",
          "name": "stderr",
          "text": [
            "<ipython-input-22-484b6620476e>:5: SettingWithCopyWarning: \n",
            "A value is trying to be set on a copy of a slice from a DataFrame.\n",
            "Try using .loc[row_indexer,col_indexer] = value instead\n",
            "\n",
            "See the caveats in the documentation: https://pandas.pydata.org/pandas-docs/stable/user_guide/indexing.html#returning-a-view-versus-a-copy\n",
            "  X['Sex'] = X['Sex'].map({'male': 1, 'female': 0})  # encoding\n",
            "<ipython-input-22-484b6620476e>:6: FutureWarning: A value is trying to be set on a copy of a DataFrame or Series through chained assignment using an inplace method.\n",
            "The behavior will change in pandas 3.0. This inplace method will never work because the intermediate object on which we are setting values always behaves as a copy.\n",
            "\n",
            "For example, when doing 'df[col].method(value, inplace=True)', try using 'df.method({col: value}, inplace=True)' or df[col] = df[col].method(value) instead, to perform the operation inplace on the original object.\n",
            "\n",
            "\n",
            "  X['Age'].fillna(X['Age'].median(), inplace=True)\n",
            "<ipython-input-22-484b6620476e>:6: SettingWithCopyWarning: \n",
            "A value is trying to be set on a copy of a slice from a DataFrame\n",
            "\n",
            "See the caveats in the documentation: https://pandas.pydata.org/pandas-docs/stable/user_guide/indexing.html#returning-a-view-versus-a-copy\n",
            "  X['Age'].fillna(X['Age'].median(), inplace=True)\n",
            "<ipython-input-22-484b6620476e>:7: FutureWarning: A value is trying to be set on a copy of a DataFrame or Series through chained assignment using an inplace method.\n",
            "The behavior will change in pandas 3.0. This inplace method will never work because the intermediate object on which we are setting values always behaves as a copy.\n",
            "\n",
            "For example, when doing 'df[col].method(value, inplace=True)', try using 'df.method({col: value}, inplace=True)' or df[col] = df[col].method(value) instead, to perform the operation inplace on the original object.\n",
            "\n",
            "\n",
            "  X['Fare'].fillna(X['Fare'].median(), inplace=True)\n",
            "<ipython-input-22-484b6620476e>:7: SettingWithCopyWarning: \n",
            "A value is trying to be set on a copy of a slice from a DataFrame\n",
            "\n",
            "See the caveats in the documentation: https://pandas.pydata.org/pandas-docs/stable/user_guide/indexing.html#returning-a-view-versus-a-copy\n",
            "  X['Fare'].fillna(X['Fare'].median(), inplace=True)\n"
          ]
        }
      ]
    },
    {
      "cell_type": "markdown",
      "source": [
        "B) Untuk dataset Titanic (sekitar 891 baris), pembagian 80% : 20% atau 70% : 30% itu aman dan representatif. Namun, kali ini saya menggunakan pembagian dengan presentasi 80% : 20%"
      ],
      "metadata": {
        "id": "_VyYQ67YzQK7"
      }
    },
    {
      "cell_type": "code",
      "source": [
        "# C\n",
        "\n",
        "from sklearn.neighbors import KNeighborsClassifier\n",
        "from sklearn.tree import DecisionTreeClassifier\n",
        "from sklearn.linear_model import LogisticRegression\n",
        "from sklearn.metrics import classification_report\n",
        "\n",
        "# Inisialisasi model\n",
        "model_knn = KNeighborsClassifier(n_neighbors=5)\n",
        "model_tree = DecisionTreeClassifier(random_state=42)\n",
        "model_logreg = LogisticRegression(max_iter=1000)\n",
        "\n",
        "# Latih model\n",
        "model_knn.fit(X_train, y_train)\n",
        "model_tree.fit(X_train, y_train)\n",
        "model_logreg.fit(X_train, y_train)\n",
        "\n",
        "# Prediksi\n",
        "y_pred_knn = model_knn.predict(X_test)\n",
        "y_pred_tree = model_tree.predict(X_test)\n",
        "y_pred_logreg = model_logreg.predict(X_test)\n",
        "\n"
      ],
      "metadata": {
        "id": "8QOZ02BM01Yu"
      },
      "execution_count": 26,
      "outputs": []
    },
    {
      "cell_type": "markdown",
      "source": [
        "C) Model klasifikasi yang akan digunakan yaitu:\n",
        "\n",
        "\n",
        "\n",
        "*   **K-Nearest Neighbors (KNN)**\n",
        "Model KNN adalah algoritma klasifikasi atau regresi yang menentukan hasil berdasarkan kemiripan (jarak) dengan data lain di sekitarnya.\n",
        "\n",
        "  cara kerja : Misal K=3, model lihat 3 tetangga terdekat → mayoritas kelas jadi hasil prediksi\n",
        "\n",
        "*   **Decision Tree**\n",
        "Decision Tree (pohon keputusan) adalah model yang memetakan keputusan dan hasilnya dalam bentuk struktur pohon.\n",
        "\n",
        "  cara kerja : Tiap cabang berdasarkan fitur → akhir cabang adalah prediksi (survived atau tidak)\n",
        "*  **Logistic Regression**\n",
        "Meskipun namanya “regression”, logistic regression adalah model klasifikasi, biasanya untuk dua kelas (binary classification).\n",
        "\n",
        "  cara kerja : Mencoba memetakan fitur jadi probabilitas antara 0 dan 1\n",
        "\n",
        "\n"
      ],
      "metadata": {
        "id": "0OWg8zqc1LQ2"
      }
    },
    {
      "cell_type": "code",
      "source": [
        "# Evaluasi\n",
        "from sklearn.metrics import accuracy_score\n",
        "\n",
        "print(\"=== KNN ===\")\n",
        "print(classification_report(y_test, y_pred_knn))\n",
        "\n",
        "print(\"=== Decision Tree ===\")\n",
        "print(classification_report(y_test, y_pred_tree))\n",
        "\n",
        "print(\"=== Logistic Regression ===\")\n",
        "print(classification_report(y_test, y_pred_logreg))\n",
        "\n",
        "# akurasi knn\n",
        "accuracy_knn = accuracy_score(y_test, y_pred_knn)\n",
        "print(f\"Akurasi KNN: {accuracy_knn * 100:.2f}%\")\n",
        "# akurasi Decision Tree\n",
        "accuracy_tree = accuracy_score(y_test, y_pred_tree)\n",
        "print(f\"Akurasi Decision Tree: {accuracy_tree * 100:.2f}%\")\n",
        "# akurasi Logistic Regression\n",
        "accuracy_logreg = accuracy_score(y_test, y_pred_logreg)\n",
        "print(f\"Akurasi Logistic Regression: {accuracy_logreg * 100:.2f}%\")\n",
        "\n"
      ],
      "metadata": {
        "colab": {
          "base_uri": "https://localhost:8080/"
        },
        "id": "qRtCI2F83BOB",
        "outputId": "ff4864b3-2895-4099-ab65-b5062eda2af6"
      },
      "execution_count": 30,
      "outputs": [
        {
          "output_type": "stream",
          "name": "stdout",
          "text": [
            "=== KNN ===\n",
            "              precision    recall  f1-score   support\n",
            "\n",
            "           0       0.69      0.83      0.75       105\n",
            "           1       0.65      0.46      0.54        74\n",
            "\n",
            "    accuracy                           0.68       179\n",
            "   macro avg       0.67      0.64      0.64       179\n",
            "weighted avg       0.67      0.68      0.66       179\n",
            "\n",
            "=== Decision Tree ===\n",
            "              precision    recall  f1-score   support\n",
            "\n",
            "           0       0.79      0.77      0.78       105\n",
            "           1       0.69      0.72      0.70        74\n",
            "\n",
            "    accuracy                           0.75       179\n",
            "   macro avg       0.74      0.74      0.74       179\n",
            "weighted avg       0.75      0.75      0.75       179\n",
            "\n",
            "=== Logistic Regression ===\n",
            "              precision    recall  f1-score   support\n",
            "\n",
            "           0       0.82      0.86      0.84       105\n",
            "           1       0.78      0.73      0.76        74\n",
            "\n",
            "    accuracy                           0.80       179\n",
            "   macro avg       0.80      0.79      0.80       179\n",
            "weighted avg       0.80      0.80      0.80       179\n",
            "\n",
            "Akurasi KNN: 67.60%\n",
            "Akurasi Decision Tree: 74.86%\n",
            "Akurasi Logistic Regression: 80.45%\n"
          ]
        }
      ]
    },
    {
      "cell_type": "markdown",
      "source": [
        "D)\n",
        "\n",
        "* **Accuracy** : Persentase prediksi yang benar\n",
        "\n",
        "* **Precision** :\tDari semua prediksi selamat, berapa yang benar\n",
        "\n",
        "* **Recall** :\tDari semua penumpang yang benar-benar selamat, berapa yang terdeteksi\n",
        "\n",
        "* **F1-Score**\tRata-rata harmonis precision & recall → seimbang"
      ],
      "metadata": {
        "id": "M97HvlrG3JMO"
      }
    },
    {
      "cell_type": "markdown",
      "source": [
        "E) Dari ketiga algoritma tersebut yang terbagus adalah algoritma **Logistic Regression** dengan akurasi sebesar 80,45%."
      ],
      "metadata": {
        "id": "HeULMzgm6g-E"
      }
    },
    {
      "cell_type": "markdown",
      "source": [
        "# NOMOR 4 : Evaluasi"
      ],
      "metadata": {
        "id": "2tGF0cNw85r2"
      }
    },
    {
      "cell_type": "code",
      "source": [
        "from sklearn.metrics import classification_report\n",
        "\n",
        "print(classification_report(y_test, y_pred_logreg))\n"
      ],
      "metadata": {
        "colab": {
          "base_uri": "https://localhost:8080/"
        },
        "id": "zQQBb6KY8_BD",
        "outputId": "45d632f3-d6dd-48f1-84b4-15f22d3a71b8"
      },
      "execution_count": 31,
      "outputs": [
        {
          "output_type": "stream",
          "name": "stdout",
          "text": [
            "              precision    recall  f1-score   support\n",
            "\n",
            "           0       0.82      0.86      0.84       105\n",
            "           1       0.78      0.73      0.76        74\n",
            "\n",
            "    accuracy                           0.80       179\n",
            "   macro avg       0.80      0.79      0.80       179\n",
            "weighted avg       0.80      0.80      0.80       179\n",
            "\n"
          ]
        }
      ]
    },
    {
      "cell_type": "markdown",
      "source": [
        "A) Fokus pada kolom \"1\"\n",
        "* Precision (kelas 1) = 0.82\n",
        "→ Dari semua yang diprediksi selamat, 82% benar-benar selamat.\n",
        "\n",
        "* Recall (kelas 1) = 0.75\n",
        "→ Dari semua penumpang yang benar-benar selamat, model menangkap 75%."
      ],
      "metadata": {
        "id": "S7I1rp4H9L7f"
      }
    },
    {
      "cell_type": "code",
      "source": [
        "print(f\"B)\")\n",
        "\n",
        "import numpy as np\n",
        "\n",
        "# Jumlah penumpang yang diprediksi selamat (y_pred = 1)\n",
        "jumlah_prediksi_selamat = np.sum(y_pred_logreg == 1)\n",
        "\n",
        "# Jumlah yang diprediksi selamat dan memang benar-benar selamat\n",
        "benar_selamat = np.sum((y_pred_logreg == 1) & (y_test.values == 1))\n",
        "\n",
        "print(f\"Jumlah penumpang yang DIPREDIKSI selamat: {jumlah_prediksi_selamat}\")\n",
        "print(f\"Jumlah penumpang yang BENAR-BENAR selamat dari prediksi itu: {benar_selamat}\")"
      ],
      "metadata": {
        "colab": {
          "base_uri": "https://localhost:8080/"
        },
        "id": "5pFNBIjQ93cB",
        "outputId": "6dc7ab1c-bc25-41ef-8f86-a49582c7bd0c"
      },
      "execution_count": 34,
      "outputs": [
        {
          "output_type": "stream",
          "name": "stdout",
          "text": [
            "B)\n",
            "Jumlah penumpang yang DIPREDIKSI selamat: 69\n",
            "Jumlah penumpang yang BENAR-BENAR selamat dari prediksi itu: 54\n"
          ]
        }
      ]
    }
  ]
}